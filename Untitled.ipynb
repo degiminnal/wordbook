{
 "cells": [
  {
   "cell_type": "code",
   "execution_count": 4,
   "id": "72d6fe35",
   "metadata": {},
   "outputs": [],
   "source": [
    "import requests\n",
    "\n",
    "headers = {\n",
    "    'authority': 'api.interpreter.caiyunai.com',\n",
    "    'accept': 'application/json, text/plain, */*',\n",
    "    'accept-language': 'zh-CN,zh;q=0.9',\n",
    "    'app-name': 'xy',\n",
    "    'cache-control': 'no-cache',\n",
    "    'content-type': 'application/json;charset=UTF-8',\n",
    "    'device-id': '',\n",
    "    'origin': 'https://fanyi.caiyunapp.com',\n",
    "    'os-type': 'web',\n",
    "    'os-version': '',\n",
    "    'pragma': 'no-cache',\n",
    "    'referer': 'https://fanyi.caiyunapp.com/',\n",
    "    'sec-ch-ua': '\"Chromium\";v=\"110\", \"Not A(Brand\";v=\"24\", \"Google Chrome\";v=\"110\"',\n",
    "    'sec-ch-ua-mobile': '?0',\n",
    "    'sec-ch-ua-platform': '\"macOS\"',\n",
    "    'sec-fetch-dest': 'empty',\n",
    "    'sec-fetch-mode': 'cors',\n",
    "    'sec-fetch-site': 'cross-site',\n",
    "    'user-agent': 'Mozilla/5.0 (Macintosh; Intel Mac OS X 10_15_7) AppleWebKit/537.36 (KHTML, like Gecko) Chrome/110.0.0.0 Safari/537.36',\n",
    "    'x-authorization': 'token:qgemv4jr1y38jyq6vhvi',\n",
    "}\n",
    "\n",
    "json_data = {\n",
    "    'trans_type': 'en2zh',\n",
    "    'source': 'positive',\n",
    "}\n",
    "\n",
    "response = requests.post('https://api.interpreter.caiyunai.com/v1/dict', headers=headers, json=json_data)\n",
    "\n",
    "# Note: json_data will not be serialized by requests\n",
    "# exactly as it was in the original request.\n",
    "#data = '{\"trans_type\":\"en2zh\",\"source\":\"hello\"}'\n",
    "#response = requests.post('https://api.interpreter.caiyunai.com/v1/dict', headers=headers, data=data)"
   ]
  },
  {
   "cell_type": "code",
   "execution_count": 5,
   "id": "6af0745a",
   "metadata": {},
   "outputs": [
    {
     "name": "stdout",
     "output_type": "stream",
     "text": [
      "<Response [200]>\n"
     ]
    }
   ],
   "source": [
    "print(response)"
   ]
  },
  {
   "cell_type": "code",
   "execution_count": 6,
   "id": "a0448862",
   "metadata": {},
   "outputs": [
    {
     "data": {
      "text/plain": [
       "'{\"rc\":0,\"wiki\":{},\"dictionary\":{\"prons\":{\"en-us\":\"[\\\\u02c8p\\\\u0251z\\\\u0259t\\\\u026av]\",\"en\":\"[\\\\u02c8p\\\\u0254z\\\\u0259tiv]\"},\"explanations\":[\"a.\\\\u6709\\\\u4e8b\\\\u5b9e\\\\u6839\\\\u636e\\\\u7684;\\\\u786e\\\\u5b9e\\\\u7684;\\\\u65ad\\\\u7136\\\\u7684;\\\\u5b9e\\\\u9645\\\\u7684;\\\\u80af\\\\u5b9a\\\\u7684;\\\\u76f4\\\\u63a5\\\\u7684\",\"[\\\\u6570]\\\\u6b63\\\\u7684\",\"n.\\\\u5b9e\\\\u5728;\\\\u5b9e\\\\u5728\\\\u7684\\\\u4e8b\\\\u7269;\\\\u5b9e\\\\u5728\\\\u6027;\\\\u6b63\\\\u6570\"],\"synonym\":[\"sure\",\"definite\",\"certain\",\"convinced\",\"assured\"],\"antonym\":[\"negative\"],\"wqx_example\":[],\"entry\":\"positive\",\"type\":\"word\",\"related\":[],\"source\":\"wenquxing\"}}\\n'"
      ]
     },
     "execution_count": 6,
     "metadata": {},
     "output_type": "execute_result"
    }
   ],
   "source": [
    "response.text"
   ]
  },
  {
   "cell_type": "code",
   "execution_count": null,
   "id": "f5a71362",
   "metadata": {},
   "outputs": [],
   "source": []
  }
 ],
 "metadata": {
  "kernelspec": {
   "display_name": "Python 3 (ipykernel)",
   "language": "python",
   "name": "python3"
  },
  "language_info": {
   "codemirror_mode": {
    "name": "ipython",
    "version": 3
   },
   "file_extension": ".py",
   "mimetype": "text/x-python",
   "name": "python",
   "nbconvert_exporter": "python",
   "pygments_lexer": "ipython3",
   "version": "3.9.12"
  }
 },
 "nbformat": 4,
 "nbformat_minor": 5
}
